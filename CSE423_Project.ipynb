{
  "nbformat": 4,
  "nbformat_minor": 0,
  "metadata": {
    "colab": {
      "name": "CSE423 Project.ipynb",
      "provenance": [],
      "collapsed_sections": []
    },
    "kernelspec": {
      "name": "python3",
      "display_name": "Python 3"
    },
    "language_info": {
      "name": "python"
    },
    "accelerator": "GPU"
  },
  "cells": [
    {
      "cell_type": "code",
      "source": [
        "!pip install tensorflow==1.15.0"
      ],
      "metadata": {
        "colab": {
          "base_uri": "https://localhost:8080/"
        },
        "id": "L3y0yGFYiWRI",
        "outputId": "bfec68f7-a40d-429c-b72f-931438b6a942"
      },
      "execution_count": 3,
      "outputs": [
        {
          "output_type": "stream",
          "name": "stdout",
          "text": [
            "Looking in indexes: https://pypi.org/simple, https://us-python.pkg.dev/colab-wheels/public/simple/\n",
            "Requirement already satisfied: tensorflow==1.15.0 in /usr/local/lib/python3.7/dist-packages (1.15.0)\n",
            "Requirement already satisfied: absl-py>=0.7.0 in /usr/local/lib/python3.7/dist-packages (from tensorflow==1.15.0) (1.2.0)\n",
            "Requirement already satisfied: tensorboard<1.16.0,>=1.15.0 in /usr/local/lib/python3.7/dist-packages (from tensorflow==1.15.0) (1.15.0)\n",
            "Requirement already satisfied: google-pasta>=0.1.6 in /usr/local/lib/python3.7/dist-packages (from tensorflow==1.15.0) (0.2.0)\n",
            "Requirement already satisfied: termcolor>=1.1.0 in /usr/local/lib/python3.7/dist-packages (from tensorflow==1.15.0) (1.1.0)\n",
            "Requirement already satisfied: opt-einsum>=2.3.2 in /usr/local/lib/python3.7/dist-packages (from tensorflow==1.15.0) (3.3.0)\n",
            "Requirement already satisfied: keras-preprocessing>=1.0.5 in /usr/local/lib/python3.7/dist-packages (from tensorflow==1.15.0) (1.1.2)\n",
            "Requirement already satisfied: tensorflow-estimator==1.15.1 in /usr/local/lib/python3.7/dist-packages (from tensorflow==1.15.0) (1.15.1)\n",
            "Requirement already satisfied: grpcio>=1.8.6 in /usr/local/lib/python3.7/dist-packages (from tensorflow==1.15.0) (1.47.0)\n",
            "Requirement already satisfied: gast==0.2.2 in /usr/local/lib/python3.7/dist-packages (from tensorflow==1.15.0) (0.2.2)\n",
            "Requirement already satisfied: protobuf>=3.6.1 in /usr/local/lib/python3.7/dist-packages (from tensorflow==1.15.0) (3.17.3)\n",
            "Requirement already satisfied: wheel>=0.26 in /usr/local/lib/python3.7/dist-packages (from tensorflow==1.15.0) (0.37.1)\n",
            "Requirement already satisfied: numpy<2.0,>=1.16.0 in /usr/local/lib/python3.7/dist-packages (from tensorflow==1.15.0) (1.21.6)\n",
            "Requirement already satisfied: wrapt>=1.11.1 in /usr/local/lib/python3.7/dist-packages (from tensorflow==1.15.0) (1.14.1)\n",
            "Requirement already satisfied: keras-applications>=1.0.8 in /usr/local/lib/python3.7/dist-packages (from tensorflow==1.15.0) (1.0.8)\n",
            "Requirement already satisfied: astor>=0.6.0 in /usr/local/lib/python3.7/dist-packages (from tensorflow==1.15.0) (0.8.1)\n",
            "Requirement already satisfied: six>=1.10.0 in /usr/local/lib/python3.7/dist-packages (from tensorflow==1.15.0) (1.15.0)\n",
            "Requirement already satisfied: h5py in /usr/local/lib/python3.7/dist-packages (from keras-applications>=1.0.8->tensorflow==1.15.0) (3.1.0)\n",
            "Requirement already satisfied: markdown>=2.6.8 in /usr/local/lib/python3.7/dist-packages (from tensorboard<1.16.0,>=1.15.0->tensorflow==1.15.0) (3.4.1)\n",
            "Requirement already satisfied: werkzeug>=0.11.15 in /usr/local/lib/python3.7/dist-packages (from tensorboard<1.16.0,>=1.15.0->tensorflow==1.15.0) (1.0.1)\n",
            "Requirement already satisfied: setuptools>=41.0.0 in /usr/local/lib/python3.7/dist-packages (from tensorboard<1.16.0,>=1.15.0->tensorflow==1.15.0) (57.4.0)\n",
            "Requirement already satisfied: importlib-metadata>=4.4 in /usr/local/lib/python3.7/dist-packages (from markdown>=2.6.8->tensorboard<1.16.0,>=1.15.0->tensorflow==1.15.0) (4.12.0)\n",
            "Requirement already satisfied: zipp>=0.5 in /usr/local/lib/python3.7/dist-packages (from importlib-metadata>=4.4->markdown>=2.6.8->tensorboard<1.16.0,>=1.15.0->tensorflow==1.15.0) (3.8.1)\n",
            "Requirement already satisfied: typing-extensions>=3.6.4 in /usr/local/lib/python3.7/dist-packages (from importlib-metadata>=4.4->markdown>=2.6.8->tensorboard<1.16.0,>=1.15.0->tensorflow==1.15.0) (4.1.1)\n",
            "Requirement already satisfied: cached-property in /usr/local/lib/python3.7/dist-packages (from h5py->keras-applications>=1.0.8->tensorflow==1.15.0) (1.5.2)\n"
          ]
        }
      ]
    },
    {
      "cell_type": "code",
      "source": [
        "!pip install -q lucid>=0.2.3\n",
        "!pip install -q moviepy"
      ],
      "metadata": {
        "id": "YXv13t34XX7o"
      },
      "execution_count": 5,
      "outputs": []
    },
    {
      "cell_type": "code",
      "source": [
        " !pip install imageio==2.4.1\n",
        " "
      ],
      "metadata": {
        "colab": {
          "base_uri": "https://localhost:8080/"
        },
        "id": "biwMeGZy89sD",
        "outputId": "e36348af-a344-4b88-dc10-bd0e446a39f1"
      },
      "execution_count": 6,
      "outputs": [
        {
          "output_type": "stream",
          "name": "stdout",
          "text": [
            "Looking in indexes: https://pypi.org/simple, https://us-python.pkg.dev/colab-wheels/public/simple/\n",
            "Collecting imageio==2.4.1\n",
            "  Downloading imageio-2.4.1.tar.gz (3.3 MB)\n",
            "\u001b[K     |████████████████████████████████| 3.3 MB 7.1 MB/s \n",
            "\u001b[?25hRequirement already satisfied: numpy in /usr/local/lib/python3.7/dist-packages (from imageio==2.4.1) (1.19.0)\n",
            "Requirement already satisfied: pillow in /usr/local/lib/python3.7/dist-packages (from imageio==2.4.1) (7.1.2)\n",
            "Building wheels for collected packages: imageio\n",
            "  Building wheel for imageio (setup.py) ... \u001b[?25l\u001b[?25hdone\n",
            "  Created wheel for imageio: filename=imageio-2.4.1-py3-none-any.whl size=3303885 sha256=c3fdd9a9b45880efab22308f7d371672c8d9d020c0386b812f74732d63592d28\n",
            "  Stored in directory: /root/.cache/pip/wheels/46/20/07/7bb9c8c44e6ec2efa60fd0e6280094f53f65f41767ef69a5ee\n",
            "Successfully built imageio\n",
            "Installing collected packages: imageio\n",
            "  Attempting uninstall: imageio\n",
            "    Found existing installation: imageio 2.9.0\n",
            "    Uninstalling imageio-2.9.0:\n",
            "      Successfully uninstalled imageio-2.9.0\n",
            "Successfully installed imageio-2.4.1\n"
          ]
        }
      ]
    },
    {
      "cell_type": "code",
      "source": [
        "pip install PyOpenGL PyOpenGL_accelerate"
      ],
      "metadata": {
        "colab": {
          "base_uri": "https://localhost:8080/"
        },
        "id": "YfRIUgpVkS7u",
        "outputId": "c6519a8b-b6ac-421d-a71e-e647691b09ca"
      },
      "execution_count": 7,
      "outputs": [
        {
          "output_type": "stream",
          "name": "stdout",
          "text": [
            "Looking in indexes: https://pypi.org/simple, https://us-python.pkg.dev/colab-wheels/public/simple/\n",
            "Requirement already satisfied: PyOpenGL in /usr/local/lib/python3.7/dist-packages (3.1.6)\n",
            "Collecting PyOpenGL_accelerate\n",
            "  Downloading PyOpenGL-accelerate-3.1.5.tar.gz (538 kB)\n",
            "\u001b[K     |████████████████████████████████| 538 kB 6.6 MB/s \n",
            "\u001b[?25hBuilding wheels for collected packages: PyOpenGL-accelerate\n",
            "  Building wheel for PyOpenGL-accelerate (setup.py) ... \u001b[?25l\u001b[?25hdone\n",
            "  Created wheel for PyOpenGL-accelerate: filename=PyOpenGL_accelerate-3.1.5-cp37-cp37m-linux_x86_64.whl size=1599568 sha256=4296c235ae4bc24c487389b68b6683baf2fcde898fb0b8e43f5ed24dfba3849f\n",
            "  Stored in directory: /root/.cache/pip/wheels/1c/f5/6f/169afb3f2d476c5e807f8515b3c9bc9b819c3962316aa804eb\n",
            "Successfully built PyOpenGL-accelerate\n",
            "Installing collected packages: PyOpenGL-accelerate\n",
            "Successfully installed PyOpenGL-accelerate-3.1.5\n"
          ]
        }
      ]
    },
    {
      "cell_type": "code",
      "source": [
        "import numpy as np\n",
        "import json\n",
        "import moviepy.editor as mvp\n",
        "from google.colab import files\n",
        "import tensorflow.compat.v1.gfile as gfile\n",
        "import lucid.misc.io.showing as show\n",
        "import math"
      ],
      "metadata": {
        "id": "MuQfUYd6XYDH",
        "colab": {
          "base_uri": "https://localhost:8080/"
        },
        "outputId": "88a85d17-3ef2-4bce-95a1-c089e091af5b"
      },
      "execution_count": 8,
      "outputs": [
        {
          "output_type": "stream",
          "name": "stdout",
          "text": [
            "Imageio: 'ffmpeg-linux64-v3.3.1' was not found on your computer; downloading it now.\n",
            "Try 1. Download from https://github.com/imageio/imageio-binaries/raw/master/ffmpeg/ffmpeg-linux64-v3.3.1 (43.8 MB)\n",
            "Downloading: 8192/45929032 bytes (0.0%)\b\b\b\b\b\b\b\b\b\b\b\b\b\b\b\b\b\b\b\b\b\b\b\b\b\b2662400/45929032 bytes (5.8%)\b\b\b\b\b\b\b\b\b\b\b\b\b\b\b\b\b\b\b\b\b\b\b\b\b\b\b\b\b5668864/45929032 bytes (12.3%)\b\b\b\b\b\b\b\b\b\b\b\b\b\b\b\b\b\b\b\b\b\b\b\b\b\b\b\b\b\b9519104/45929032 bytes (20.7%)\b\b\b\b\b\b\b\b\b\b\b\b\b\b\b\b\b\b\b\b\b\b\b\b\b\b\b\b\b\b13352960/45929032 bytes (29.1%)\b\b\b\b\b\b\b\b\b\b\b\b\b\b\b\b\b\b\b\b\b\b\b\b\b\b\b\b\b\b\b17498112/45929032 bytes (38.1%)\b\b\b\b\b\b\b\b\b\b\b\b\b\b\b\b\b\b\b\b\b\b\b\b\b\b\b\b\b\b\b21676032/45929032 bytes (47.2%)\b\b\b\b\b\b\b\b\b\b\b\b\b\b\b\b\b\b\b\b\b\b\b\b\b\b\b\b\b\b\b25370624/45929032 bytes (55.2%)\b\b\b\b\b\b\b\b\b\b\b\b\b\b\b\b\b\b\b\b\b\b\b\b\b\b\b\b\b\b\b29384704/45929032 bytes (64.0%)\b\b\b\b\b\b\b\b\b\b\b\b\b\b\b\b\b\b\b\b\b\b\b\b\b\b\b\b\b\b\b33382400/45929032 bytes (72.7%)\b\b\b\b\b\b\b\b\b\b\b\b\b\b\b\b\b\b\b\b\b\b\b\b\b\b\b\b\b\b\b37330944/45929032 bytes (81.3%)\b\b\b\b\b\b\b\b\b\b\b\b\b\b\b\b\b\b\b\b\b\b\b\b\b\b\b\b\b\b\b40894464/45929032 bytes (89.0%)\b\b\b\b\b\b\b\b\b\b\b\b\b\b\b\b\b\b\b\b\b\b\b\b\b\b\b\b\b\b\b44171264/45929032 bytes (96.2%)\b\b\b\b\b\b\b\b\b\b\b\b\b\b\b\b\b\b\b\b\b\b\b\b\b\b\b\b\b\b\b45929032/45929032 bytes (100.0%)\n",
            "  Done\n",
            "File saved as /root/.imageio/ffmpeg/ffmpeg-linux64-v3.3.1.\n"
          ]
        }
      ]
    },
    {
      "cell_type": "code",
      "source": [
        "from lucid.misc.gl.glcontext import create_opengl_context\n",
        "\n",
        "# Now it's safe to import OpenGL and EGL functions\n",
        "import OpenGL\n",
        "import OpenGL.GL as gl\n",
        "from OpenGL.GLU import *\n",
        "\n",
        "\n",
        "# create_opengl_context() creates GL context that is attached to an\n",
        "# offscreen surface of specified size. Note that rendering to buffers\n",
        "# of different size and format is still possible with OpenGL Framebuffers.\n",
        "#\n",
        "# Users are expected to directly use EGL calls in case more advanced\n",
        "# context management is required.\n",
        "WIDTH, HEIGHT = 800,800\n",
        "create_opengl_context((WIDTH, HEIGHT))\n",
        "    \n",
        "# OpenGL context is available here.\n",
        "\n",
        "print(gl.glGetString(gl.GL_VERSION))\n",
        "print(gl.glGetString(gl.GL_VENDOR)) \n",
        "#print(gl.glGetString(gl.GL_EXTENSIONS))"
      ],
      "metadata": {
        "id": "-dC6f5NBXcNu",
        "colab": {
          "base_uri": "https://localhost:8080/"
        },
        "outputId": "fb9a5e63-e6d1-4236-e63c-be0bd9c97907"
      },
      "execution_count": 13,
      "outputs": [
        {
          "output_type": "stream",
          "name": "stdout",
          "text": [
            "b'4.6.0 NVIDIA 460.32.03'\n",
            "b'NVIDIA Corporation'\n"
          ]
        }
      ]
    },
    {
      "cell_type": "code",
      "source": [
        "# Let's render something!\n",
        "gl.glClear(gl.GL_COLOR_BUFFER_BIT)\n",
        "\n",
        "gl.glColor3f(.5,.3,.7)\n",
        "gl.glPointSize(7)\n",
        "\n",
        "gl.glBegin(gl.GL_LINES)\n",
        "gl.glVertex2f(0,-1)\n",
        "gl.glVertex2f(0,1)\n",
        "gl.glVertex2f(1,0)\n",
        "gl.glVertex2f(-1,0)\n",
        "gl.glEnd()\n",
        "\n",
        "gl.glColor3f(0,.5,0)\n",
        "gl.glBegin(gl.GL_POINTS)\n",
        "gl.glVertex2f(.75,.80 )\n",
        "gl.glVertex2f(.1, 0)\n",
        "gl.glEnd()\n",
        "\n",
        "\n",
        "\n",
        "\n",
        "\n"
      ],
      "metadata": {
        "id": "ANi7Wf-hbL9Y"
      },
      "execution_count": 14,
      "outputs": []
    },
    {
      "cell_type": "code",
      "source": [
        "import random\n",
        "x_min = 0 \n",
        "x_max = 6\n",
        "y_min = -5\n",
        "y_max = 5\n",
        "\n",
        "# x_min = -6 \n",
        "# x_max = 6\n",
        "# y_min = -4|\n",
        "# y_max = 4"
      ],
      "metadata": {
        "id": "kV-YEVCTGPQ-"
      },
      "execution_count": 15,
      "outputs": []
    },
    {
      "cell_type": "code",
      "source": [
        "def findzone(x1,y1, x2,y2):  #FIND THE ZONE\n",
        "  zone = 0\n",
        "  dx = x2 - x1\n",
        "  dy = y2 - y1\n",
        "  if abs(dx) >= abs(dy):\n",
        "    if dx > 0 and dy > 0:\n",
        "      zone = 0\n",
        "    elif dx < 0 and dy > 0:\n",
        "      zone = 3\n",
        "    elif dx < 0 and dy < 0:\n",
        "      zone = 4 \n",
        "    elif dx > 0 and dy < 0:\n",
        "      zone = 7 \n",
        "  else: \n",
        "    if dx > 0 and dy>  0:\n",
        "      zone = 1\n",
        "    elif dx < 0 and dy > 0:\n",
        "      zone = 2\n",
        "    elif dx < 0 and dy <0:\n",
        "      zone = 5\n",
        "    elif  dx >= 0 and dy < 0:\n",
        "      zone = 6\n",
        "  return zone\n"
      ],
      "metadata": {
        "id": "9MnGK0rT-Tbd"
      },
      "execution_count": 49,
      "outputs": []
    },
    {
      "cell_type": "code",
      "source": [
        "def convertToZone0(x1, y1, x2, y2, zone):\n",
        "  if zone == 0:\n",
        "    return x1,y1, x2, y2\n",
        "  elif zone==1:\n",
        "    return y1, x1, y2,x1\n",
        "  elif zone == 2:\n",
        "    return y1, -x1,y2, -x2\n",
        "  elif zone == 3:\n",
        "    return -x1, y1, -x2, y2\n",
        "  elif zone == 4:\n",
        "    return -x1, -y1, -x2, -y2\n",
        "  elif zone == 5:\n",
        "    return -y1, -x1, -y2, -x2 \n",
        "  elif zone == 6:\n",
        "    return -y1, x1, -y2, x2\n",
        "  else:\n",
        "    return x1, -y1, x2, -y2 "
      ],
      "metadata": {
        "id": "JI4SW8fiWy22"
      },
      "execution_count": 17,
      "outputs": []
    },
    {
      "cell_type": "code",
      "source": [
        "def convertToOrginalZone(x,y,zone):\n",
        "  a,b =0, 0\n",
        "  if zone==0:\n",
        "    a,b = x , y\n",
        "  elif zone ==1:\n",
        "    a,b = y,x\n",
        "  elif zone==2:\n",
        "    a,b = -y,x\n",
        "  elif zone ==3:\n",
        "    a,b = -x,y\n",
        "  elif zone ==4:\n",
        "    a,b = -x,-y\n",
        "  elif zone == 5:\n",
        "    a,b = -y,-x\n",
        "  elif zone ==6:\n",
        "    a,b = y, -x\n",
        "  else:\n",
        "    a,b = x, -y\n",
        "  return a, b\n"
      ],
      "metadata": {
        "id": "eITW4xQPYYw6"
      },
      "execution_count": 18,
      "outputs": []
    },
    {
      "cell_type": "code",
      "source": [
        "def calculateMidPoint(x1,y1,x2,y2):\n",
        "  zone =findzone(x1,y1,x2,y2)\n",
        "  a1, b1, a2, b2 = convertToZone0(x1,y1,x2,y2, zone)\n",
        "  drawLine(a1,b1,a2,b2, zone) "
      ],
      "metadata": {
        "id": "W66qvj2TZ6sW"
      },
      "execution_count": 50,
      "outputs": []
    },
    {
      "cell_type": "code",
      "source": [
        "def drawLine(x1, y1, x2, y2, zone):\n",
        "    dx = abs(x2 - x1)\n",
        "    dy = abs(y2 - y1)\n",
        "    d = 2 * dy - dx\n",
        "    incE = 2 * dy\n",
        "    incNE = 2 * dy - 2 * dx\n",
        "   \n",
        "    x = x1\n",
        "    y = y1\n",
        "    while x <= x2:\n",
        "        x = x + 1\n",
        "        if d >= 0:\n",
        "          d = d+ incNE\n",
        "          y = y+1\n",
        "        else:\n",
        "            d = d + incE\n",
        "        \n",
        "        a, b = convertToOrginalZone(x,y,zone)\n",
        "        state = cohen_sutherland(a/10, b/10, a/10, b/10)\n",
        "        if state == 'inside':\n",
        "          gl.glColor3f(.003,.004,.006)\n",
        "          gl.glPointSize(5)\n",
        "          gl.glBegin(gl.GL_POINTS)\n",
        "          gl.glVertex2f(a/100,b/100)\n",
        "          gl.glEnd()\n",
        "        else:\n",
        "          gl.glColor3f(.255, 0, 0)\n",
        "          gl.glPointSize(5)\n",
        "          gl.glBegin(gl.GL_POINTS)\n",
        "          gl.glVertex2f(a/100,b/100)\n",
        "          gl.glEnd()\n",
        "          \n"
      ],
      "metadata": {
        "id": "QyooSBQIax4Q"
      },
      "execution_count": 47,
      "outputs": []
    },
    {
      "cell_type": "code",
      "source": [
        "def midpointcircle(r,c1,c2,red, green, blue, size):\n",
        "  d = 1-r\n",
        "  x = 0\n",
        "  y = r\n",
        "  circlePoints(x,y,c1, c2,red, green, blue, size)\n",
        "  while x <= y:\n",
        "    if d < 0:\n",
        "      #choose E\n",
        "      d = d+((2*x)+3)\n",
        "      x = x+1\n",
        "    else:\n",
        "      #NE\n",
        "      d = d +((2*x)-(2*y)+5)\n",
        "      x = x+ 1\n",
        "      y = y-1\n",
        "    circlePoints(x,y,c1,c2,red, green, blue, size) "
      ],
      "metadata": {
        "id": "SRURgi6Id5oO"
      },
      "execution_count": 60,
      "outputs": []
    },
    {
      "cell_type": "code",
      "source": [
        "def circlePoints(x,y,c1,c2,red, green, blue, size):\n",
        "  gl.glPointSize(size)\n",
        "  x = x/100\n",
        "  y = y/100\n",
        "  c1 = c1 /100\n",
        "  c2 = c2/ 100\n",
        "  \n",
        "  \n",
        "  state = cohen_sutherland(x+c1, y +c2 ,x +c1, y +c2)\n",
        "  if state == 'inside':\n",
        "     gl.glColor3f(red, green, blue)\n",
        "     gl.glBegin(gl.GL_POINTS)\n",
        "     gl.glVertex2f(x +c1, y +c2)\n",
        "     gl.glEnd()\n",
        "  else:                             #zone0\n",
        "     gl.glColor3f(.255, 0, 0)\n",
        "     gl.glBegin(gl.GL_POINTS)\n",
        "     gl.glVertex2f(x +c1, y +c2)\n",
        "     gl.glEnd()  \n",
        "  \n",
        "  state = cohen_sutherland( y+c1, x +c2 , y +c1, x +c2)\n",
        "  if state == 'inside':\n",
        "     gl.glColor3f(red, green, blue)\n",
        "     gl.glBegin(gl.GL_POINTS)\n",
        "     gl.glVertex2f(y +c1, x +c2)\n",
        "     gl.glEnd()\n",
        "  else:                                 #zone1\n",
        "     gl.glColor3f(.255, 0, 0)\n",
        "     gl.glBegin(gl.GL_POINTS)\n",
        "     gl.glVertex2f(y +c1, x +c2)\n",
        "     gl.glEnd()     \n",
        "  \n",
        "  state = cohen_sutherland( -y+c1, x +c2 , -y +c1, x +c2)\n",
        "  if state == 'inside':\n",
        "     gl.glColor3f(red, green, blue)\n",
        "     gl.glBegin(gl.GL_POINTS)\n",
        "     gl.glVertex2f(-y+c1, x +c2)\n",
        "     gl.glEnd()\n",
        "  else:                             #zone2\n",
        "     gl.glColor3f(.255, 0, 0)\n",
        "     gl.glBegin(gl.GL_POINTS)\n",
        "     gl.glVertex2f(-y+c1, x +c2)\n",
        "     gl.glEnd()     \n",
        "\n",
        "  state = cohen_sutherland( -x+c1, y +c2 , -x +c1, y +c2)\n",
        "  if state == 'inside':\n",
        "     gl.glColor3f(red, green, blue)\n",
        "     gl.glBegin(gl.GL_POINTS)\n",
        "     gl.glVertex2f( -x+c1, y +c2 )\n",
        "     gl.glEnd()\n",
        "  else:                             #zone3\n",
        "     gl.glColor3f(.255, 0, 0)\n",
        "     gl.glBegin(gl.GL_POINTS)\n",
        "     gl.glVertex2f( -x+c1, y +c2 )\n",
        "     gl.glEnd()       \n",
        "\n",
        "  state = cohen_sutherland( -x+c1, -y +c2 , -x +c1, -y +c2)\n",
        "  if state == 'inside':\n",
        "     gl.glColor3f(red, green, blue)\n",
        "     gl.glBegin(gl.GL_POINTS)\n",
        "     gl.glVertex2f( -x+c1, -y +c2 )\n",
        "     gl.glEnd()\n",
        "  else:                             #zone4\n",
        "     gl.glColor3f(.255, 0, 0)\n",
        "     gl.glBegin(gl.GL_POINTS)\n",
        "     gl.glVertex2f(-x+c1, -y +c2 )\n",
        "     gl.glEnd()       \n",
        "\n",
        "  state = cohen_sutherland( -y+c1, -x +c2 , -y +c1, -x +c2)\n",
        "  if state == 'inside':\n",
        "     gl.glColor3f(red, green, blue)\n",
        "     gl.glBegin(gl.GL_POINTS)\n",
        "     gl.glVertex2f(  -y+c1, -x +c2 )\n",
        "     gl.glEnd()\n",
        "  else:                             #zone5\n",
        "     gl.glColor3f(.255, 0, 0)\n",
        "     gl.glBegin(gl.GL_POINTS)\n",
        "     gl.glVertex2f( -y+c1, -x +c2 )\n",
        "     gl.glEnd()  \n",
        "\n",
        "  state = cohen_sutherland( y+c1, -x +c2 , y +c1, -x +c2)\n",
        "  if state == 'inside':\n",
        "     gl.glColor3f(red, green, blue)\n",
        "     gl.glBegin(gl.GL_POINTS)\n",
        "     gl.glVertex2f(y+c1, -x +c2)\n",
        "     gl.glEnd()\n",
        "  else:                             #zone6\n",
        "     gl.glColor3f(.255, 0, 0)\n",
        "     gl.glBegin(gl.GL_POINTS)\n",
        "     gl.glVertex2f( y+c1, -x +c2 )\n",
        "     gl.glEnd()           \n",
        "\n",
        "  state = cohen_sutherland( x+c1, -y +c2 , x +c1, -y +c2)\n",
        "  if state == 'inside':\n",
        "     gl.glColor3f(red, green, blue)\n",
        "     gl.glBegin(gl.GL_POINTS)\n",
        "     gl.glVertex2f( x+c1, -y +c2 )\n",
        "     gl.glEnd()\n",
        "  else:                             #zone7\n",
        "     gl.glColor3f(.255, 0, 0)\n",
        "     gl.glBegin(gl.GL_POINTS)\n",
        "     gl.glVertex2f(x+c1, -y +c2)\n",
        "     gl.glEnd()            \n",
        "\n",
        "\n",
        "\n",
        "\n",
        "\n",
        "          \n",
        "          \n",
        "\n",
        "\n",
        "\n"
      ],
      "metadata": {
        "id": "cDyojflgfOS6"
      },
      "execution_count": 61,
      "outputs": []
    },
    {
      "cell_type": "code",
      "source": [
        "def calculate_outcode(x,y):\n",
        "  global x_min\n",
        "  global x_max\n",
        "  global y_min\n",
        "  global y_max\n",
        "  if (x <x_min):\n",
        "    bit0 = 1\n",
        "  else:\n",
        "    bit0 = 0\n",
        "  if (x > x_max):\n",
        "    bit1 = 1\n",
        "  else:\n",
        "    bit1 = 0\n",
        "  if (y < y_min):\n",
        "    bit2 = 1\n",
        "  else:\n",
        "    bit2 = 0\n",
        "  if (y > y_max):\n",
        "    bit3 = 1\n",
        "  else:\n",
        "    bit3 = 0\n",
        "  return str(bit3) + str(bit2) + str(bit1) + str(bit0)"
      ],
      "metadata": {
        "id": "XUkAojK7sOXo"
      },
      "execution_count": 62,
      "outputs": []
    },
    {
      "cell_type": "code",
      "source": [
        "def cohen_sutherland(x1, y1, x2, y2):\n",
        "  oc1 =calculate_outcode(x1,y1)\n",
        "  oc2 =calculate_outcode(x2,y2)\n",
        "  oc1Dec = int(oc1, base = 2)\n",
        "  oc2Dec = int(oc2, base = 2)\n",
        "  while True:\n",
        "    if (oc1==oc2== \"0000\"):\n",
        "      return \"inside\"\n",
        "      break\n",
        "    elif (oc1 !=\"0000\"):\n",
        "      return \"outside\"\n",
        "      break\n",
        "    else:\n",
        "      if (oc1!=\"0000\"):\n",
        "        x1, y1 = find_intersection(oc1,x1,y1,x2,y2)\n",
        "        oc1 = calculate_outcode(x1,y1)\n",
        "      else:\n",
        "        x2, y2 = find_intersection(oc2,x1,y1,x2,y2)\n",
        "        oc2 = calculate_outcode(x2,y2)\n"
      ],
      "metadata": {
        "id": "Ovsnx091wtNr"
      },
      "execution_count": 25,
      "outputs": []
    },
    {
      "cell_type": "code",
      "source": [
        "def find_intersection(outcode, x1, y1, x2,y2):\n",
        "  global x_min\n",
        "  global x_max\n",
        "  global y_min\n",
        "  global y_max\n",
        "  m = (y2-y1)/(x2-x1)\n",
        "  if(outcode.startswith(\"1\")): #TOP\n",
        "    y = y_max\n",
        "    x = x1 + ((1/m)* (y_max - y1))  \n",
        "  \n",
        "  elif(outcode.startswith(\"01\")): #Bottom\n",
        "    y = y_min\n",
        "    x = x1+((1/m)* (y_min - y1))     \n",
        "  \n",
        "  elif(outcode.endswith(\"10\")): #Right\n",
        "    x = x_max\n",
        "    y = y1 + (( m * (x_max - x1))\n",
        "   \n",
        "  elif(outcode.endswith(\"1\")):  #left\n",
        "    x = x_min\n",
        "    y = y1 + (( m * (x_min - x1))   \n",
        "  return x, y\n"
      ],
      "metadata": {
        "colab": {
          "base_uri": "https://localhost:8080/",
          "height": 135
        },
        "id": "3K0Cb3_DuFae",
        "outputId": "ab5a69d1-2d5a-4e21-ba92-043f5f97fe73"
      },
      "execution_count": 68,
      "outputs": [
        {
          "output_type": "error",
          "ename": "SyntaxError",
          "evalue": "ignored",
          "traceback": [
            "\u001b[0;36m  File \u001b[0;32m\"<ipython-input-68-5e8f38e0b1d5>\"\u001b[0;36m, line \u001b[0;32m19\u001b[0m\n\u001b[0;31m    elif(outcode.endswith(\"1\")):  #left\u001b[0m\n\u001b[0m       ^\u001b[0m\n\u001b[0;31mSyntaxError\u001b[0m\u001b[0;31m:\u001b[0m invalid syntax\n"
          ]
        }
      ]
    },
    {
      "cell_type": "code",
      "source": [
        "#creates a clipping window based on the values given as input\n",
        "def create_clipping_window(x_min, x_max, y_min,y_max):\n",
        "  gl.glLineWidth(5)\n",
        "  gl.glColor3f(0, 0, 0)\n",
        "  gl.glBegin(gl.GL_LINES)\n",
        "  \n",
        "  #AROVE\n",
        "  gl.glVertex2f(x_min/10, y_max/10)\n",
        "  gl.glVertex2f(x_max/10, y_max/10)\n",
        "  \n",
        "  #below\n",
        "  gl.glVertex2f(x_min/10, y_min/10)\n",
        "  gl.glVertex2f(x_max/10, y_min/10)\n",
        "  \n",
        "  #Right\n",
        "  gl.glVertex2f(x_max/10, y_max/10)\n",
        "  gl.glVertex2f(x_max/10, y_min/10)\n",
        "  \n",
        "  #left\n",
        "  gl.glVertex2f(x_min/10, y_max/10)\n",
        "  gl.glVertex2f(x_min/10, y_min/10)\n",
        "  gl.glEnd()\n"
      ],
      "metadata": {
        "id": "Uh-gOz13xI2E"
      },
      "execution_count": 64,
      "outputs": []
    },
    {
      "cell_type": "code",
      "source": [
        "#generates random points to drawn\n",
        "def generate_random (x_min,x_max, y_min,y_max, r,g,b,size,count):\n",
        "  gl.glPointSize(size)\n",
        "\n",
        "  for i in range(count):\n",
        "    x = random.randint(x_min, x_max) /100\n",
        "    y = random.randint(y_min, y_max) /100\n",
        "    state = cohen_sutherland( x, y, x, y)\n",
        "    if state == 'inside':\n",
        "      gl.glColor3f(r, g, b)\n",
        "      gl.glBegin(gl.GL_POINTS)\n",
        "      gl.glVertex2f( x, y )\n",
        "      gl.glEnd()\n",
        "    else:                             \n",
        "      gl.glColor3f(.255, 0, 0)\n",
        "      gl.glBegin(gl.GL_POINTS)\n",
        "      gl.glVertex2f(x, y)\n",
        "      gl.glEnd()            \n"
      ],
      "metadata": {
        "id": "z24VHUf4zGwc"
      },
      "execution_count": 39,
      "outputs": []
    },
    {
      "cell_type": "code",
      "source": [
        "gl.glClearColor(.255, .255,.255,0)\n",
        "gl.glClear(gl.GL_COLOR_BUFFER_BIT)\n",
        "\n",
        "#lower body\n",
        "generate_random (-41, 36,-9,-8, .171, .179, .160,5,1000) #A\n",
        "generate_random (-14, 8,-9,-8, .142, .147, .134,5,100) #B\n",
        "generate_random (-43, 38,-7,-1, .219, .229, .228,5,1000) #C\n",
        "generate_random (-40, 36,0,2, .245, .246, .247,5,1000) #D\n",
        "generate_random (-33, 29, 3, 4, .245, .246, .247,5,1000) #E\n",
        "generate_random (-12, 24, 5, 6, .245, .246, .247,5,500) #F\n",
        "generate_random (-10, 22, 6, 7, .245, .246, .247,5,500) #G\n",
        "generate_random (-7, 16, 7, 9, .245, .246, .247,5,500) #H\n",
        "\n",
        "#blue STRIPE\n",
        "generate_random (-43, 38, -4, -3, .067, .098, .170,5, 1000) \n",
        "\n",
        "#decals\n",
        "generate_random (13, 15, 3, 3, .255, 0, 0,5,50) \n",
        "generate_random (13, 14, 4, 4, .255, 0, 0,3,50)\n",
        "\n",
        "#HEAD LIGHT\n",
        "generate_random (-43, -40, -4, -3, .219, .034, .042 ,5, 10)\n",
        "generate_random (-43, -42, -4, -3, .255, 0, 0,5,100)\n",
        "\n",
        "#TAIL LIGHT\n",
        "generate_random (36, 37, -4, -2, .250, 0, 0,5,100)\n",
        "\n",
        "#WINDOW\n",
        "generate_random (-11, 10, 3, 4, .080, .187, .209,5,200)\n",
        "generate_random (-6, 10, 5, 6, .080, .187, .209,5,200)\n",
        "generate_random (-6, 7, 5, 6, .089, .212, .230,5,200)\n",
        "generate_random (-8, 2, 4, 4, .089, .212, .230,5,200)\n"
      ],
      "metadata": {
        "id": "ax_IOnJI0jc6"
      },
      "execution_count": 40,
      "outputs": []
    },
    {
      "cell_type": "code",
      "source": [
        "#line art mid point parameters x1, y1, x2, y2\n",
        "#mid point circle parameters r,c1,c2,red, green, blue, size\n",
        "\n",
        "#car chassis\n",
        "calculateMidPoint(25, 10, 35, -10) #A\n",
        "calculateMidPoint(38,-6, 36 ,-9) #B\n",
        "calculateMidPoint(38,1,38,-6) #C\n",
        "calculateMidPoint(38,1,15,9) #D\n",
        "calculateMidPoint(10,10,15,9) #E\n",
        "calculateMidPoint(-7,10,10,10) #F\n",
        "calculateMidPoint(-15,4,-7,9) #G\n",
        "calculateMidPoint(-36,4,-15,4) #H\n",
        "calculateMidPoint(-43,0,-36,3) #I\n",
        "calculateMidPoint(-44,-5,-43,-2) #J\n",
        "calculateMidPoint(-44,-8,-44,-5) #K\n",
        "calculateMidPoint(-44,-8,-41,-9) #L\n",
        "calculateMidPoint(-41,-10,-35,-10) #M\n",
        "calculateMidPoint(-25,-10,15,-10) #N\n",
        "\n",
        "#Window\n",
        "#calculateMidPoint(-10,1,-10,6) #A\n",
        "calculateMidPoint(-15,2, -4,7) #B\n",
        "calculateMidPoint(-4,7,10,7) #C\n",
        "calculateMidPoint(-11,7,11,4) #D\n",
        "calculateMidPoint(10,4,10,3) #E\n",
        "calculateMidPoint(-10,2,9,2) #F\n",
        "\n",
        "#TAIL LIGHTS\n",
        "calculateMidPoint(36,-2,37,2) #A\n",
        "calculateMidPoint(36,-5,37,5) #B\n",
        "calculateMidPoint(36,-1,37,-4) #C\n",
        "\n",
        "#HEAD LIGHTS\n",
        "calculateMidPoint(-39,-2,-39, -4) #A\n",
        "calculateMidPoint(-43,-2,-40,-2) #B\n",
        "calculateMidPoint(-44,-5,-40, -5) #C\n",
        "\n",
        "#DOOR\n",
        "calculateMidPoint(-15,2,-15, -7) #A\n",
        "calculateMidPoint(-15,-9,-12, -10) #B\n",
        "calculateMidPoint(8,-10,9, -3) #C\n",
        "calculateMidPoint(9,-3, 9, 2) #D\n",
        "calculateMidPoint(-15,2,9, 2) #E\n",
        "\n",
        "#DOOR HANDLE\n",
        "calculateMidPoint(4,0,5, 0)\n",
        "#TIRES\n",
        "midpointcircle(2, 20, -8, .146, .140, .153, 20) #TIRES IN LEFT\n",
        "midpointcircle(5,20,-8,.003,.004,.006,12) #TIRES OUT LEFT\n",
        "midpointcircle(5,-30,-8,.146,.140,.153,20) #TIRES IN RIGHT\n",
        "midpointcircle(5,-30,-8,.003,.004,.006,12)#TIRES OUT RIGHT\n",
        "\n",
        "midpointcircle(2,20,-8, 0,0,0,6)#RIM IN LEFT\n",
        "midpointcircle(2,-30,-8, 0,0,0,6)#RIM OUT RIGHT\n",
        "\n",
        "midpointcircle(1,20,-8, .255,.255,.255,4)#BOLT IN LEFT\n",
        "midpointcircle(1,-30,-8, .255,.255,.255,4)#BOLT OUT RIGHT\n",
        "#ROAD\n",
        "calculateMidPoint(-44,-14,38, -14)\n",
        "calculateMidPoint(41,-14,44, -14)\n",
        "calculateMidPoint(46,-14,47, -14)\n",
        "calculateMidPoint(-49,-14,-46, -14)\n",
        "calculateMidPoint(-52,-14,-51, -14)\n",
        "\n",
        "#CREATS CLIPPING WINDOW\n",
        "create_clipping_window(x_min, x_max, y_min,y_max)\n"
      ],
      "metadata": {
        "id": "lVwka2qu42kT"
      },
      "execution_count": 65,
      "outputs": []
    },
    {
      "cell_type": "code",
      "source": [
        "img_buf = gl.glReadPixelsub(0, 0, WIDTH, HEIGHT, gl.GL_RGB, gl.GL_UNSIGNED_BYTE)\n",
        "img = np.frombuffer(img_buf, np.uint8).reshape(HEIGHT, WIDTH, 3)[::-1]\n",
        "show.image(img/255.0)"
      ],
      "metadata": {
        "colab": {
          "base_uri": "https://localhost:8080/",
          "height": 821
        },
        "id": "fhqqk9KV_eEi",
        "outputId": "02457e80-ad90-4b4e-f434-046772f632b6"
      },
      "execution_count": 66,
      "outputs": [
        {
          "output_type": "display_data",
          "data": {
            "text/plain": [
              "<IPython.core.display.HTML object>"
            ],
            "text/html": [
              "<img src=\"data:image/PNG;base64,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\" style=\"image-rendering: pixelated; image-rendering: crisp-edges;\">"
            ]
          },
          "metadata": {}
        }
      ]
    },
    {
      "cell_type": "code",
      "source": [
        ""
      ],
      "metadata": {
        "colab": {
          "base_uri": "https://localhost:8080/"
        },
        "id": "59KMO986YkjY",
        "outputId": "ec487055-94d3-4485-c6dc-6f9097acd64b"
      },
      "execution_count": 22,
      "outputs": [
        {
          "output_type": "stream",
          "name": "stdout",
          "text": [
            "7\n",
            "(2, -4, 4, -3)\n",
            "(2, -4)\n"
          ]
        }
      ]
    },
    {
      "cell_type": "code",
      "source": [
        ""
      ],
      "metadata": {
        "id": "_gzLIBzhZlqE"
      },
      "execution_count": null,
      "outputs": []
    }
  ]
}
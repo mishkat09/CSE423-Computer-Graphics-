{
  "nbformat": 4,
  "nbformat_minor": 0,
  "metadata": {
    "colab": {
      "name": "CSE423_Lab04.ipynb",
      "provenance": [],
      "collapsed_sections": []
    },
    "kernelspec": {
      "name": "python3",
      "display_name": "Python 3"
    },
    "language_info": {
      "name": "python"
    },
    "accelerator": "GPU",
    "gpuClass": "standard"
  },
  "cells": [
    {
      "cell_type": "code",
      "execution_count": 2,
      "metadata": {
        "colab": {
          "base_uri": "https://localhost:8080/"
        },
        "id": "TDeFOxNzzSea",
        "outputId": "7c76af62-137b-4f66-beb7-3386ed953486"
      },
      "outputs": [
        {
          "output_type": "stream",
          "name": "stdout",
          "text": [
            "Looking in indexes: https://pypi.org/simple, https://us-python.pkg.dev/colab-wheels/public/simple/\n",
            "Requirement already satisfied: tensorflow==1.15.0 in /usr/local/lib/python3.7/dist-packages (1.15.0)\n",
            "Requirement already satisfied: google-pasta>=0.1.6 in /usr/local/lib/python3.7/dist-packages (from tensorflow==1.15.0) (0.2.0)\n",
            "Requirement already satisfied: grpcio>=1.8.6 in /usr/local/lib/python3.7/dist-packages (from tensorflow==1.15.0) (1.47.0)\n",
            "Requirement already satisfied: astor>=0.6.0 in /usr/local/lib/python3.7/dist-packages (from tensorflow==1.15.0) (0.8.1)\n",
            "Requirement already satisfied: wrapt>=1.11.1 in /usr/local/lib/python3.7/dist-packages (from tensorflow==1.15.0) (1.14.1)\n",
            "Requirement already satisfied: absl-py>=0.7.0 in /usr/local/lib/python3.7/dist-packages (from tensorflow==1.15.0) (1.2.0)\n",
            "Requirement already satisfied: tensorflow-estimator==1.15.1 in /usr/local/lib/python3.7/dist-packages (from tensorflow==1.15.0) (1.15.1)\n",
            "Requirement already satisfied: wheel>=0.26 in /usr/local/lib/python3.7/dist-packages (from tensorflow==1.15.0) (0.37.1)\n",
            "Requirement already satisfied: numpy<2.0,>=1.16.0 in /usr/local/lib/python3.7/dist-packages (from tensorflow==1.15.0) (1.21.6)\n",
            "Requirement already satisfied: termcolor>=1.1.0 in /usr/local/lib/python3.7/dist-packages (from tensorflow==1.15.0) (1.1.0)\n",
            "Requirement already satisfied: keras-preprocessing>=1.0.5 in /usr/local/lib/python3.7/dist-packages (from tensorflow==1.15.0) (1.1.2)\n",
            "Requirement already satisfied: keras-applications>=1.0.8 in /usr/local/lib/python3.7/dist-packages (from tensorflow==1.15.0) (1.0.8)\n",
            "Requirement already satisfied: opt-einsum>=2.3.2 in /usr/local/lib/python3.7/dist-packages (from tensorflow==1.15.0) (3.3.0)\n",
            "Requirement already satisfied: six>=1.10.0 in /usr/local/lib/python3.7/dist-packages (from tensorflow==1.15.0) (1.15.0)\n",
            "Requirement already satisfied: tensorboard<1.16.0,>=1.15.0 in /usr/local/lib/python3.7/dist-packages (from tensorflow==1.15.0) (1.15.0)\n",
            "Requirement already satisfied: protobuf>=3.6.1 in /usr/local/lib/python3.7/dist-packages (from tensorflow==1.15.0) (3.17.3)\n",
            "Requirement already satisfied: gast==0.2.2 in /usr/local/lib/python3.7/dist-packages (from tensorflow==1.15.0) (0.2.2)\n",
            "Requirement already satisfied: h5py in /usr/local/lib/python3.7/dist-packages (from keras-applications>=1.0.8->tensorflow==1.15.0) (3.1.0)\n",
            "Requirement already satisfied: werkzeug>=0.11.15 in /usr/local/lib/python3.7/dist-packages (from tensorboard<1.16.0,>=1.15.0->tensorflow==1.15.0) (1.0.1)\n",
            "Requirement already satisfied: setuptools>=41.0.0 in /usr/local/lib/python3.7/dist-packages (from tensorboard<1.16.0,>=1.15.0->tensorflow==1.15.0) (57.4.0)\n",
            "Requirement already satisfied: markdown>=2.6.8 in /usr/local/lib/python3.7/dist-packages (from tensorboard<1.16.0,>=1.15.0->tensorflow==1.15.0) (3.4.1)\n",
            "Requirement already satisfied: importlib-metadata>=4.4 in /usr/local/lib/python3.7/dist-packages (from markdown>=2.6.8->tensorboard<1.16.0,>=1.15.0->tensorflow==1.15.0) (4.12.0)\n",
            "Requirement already satisfied: zipp>=0.5 in /usr/local/lib/python3.7/dist-packages (from importlib-metadata>=4.4->markdown>=2.6.8->tensorboard<1.16.0,>=1.15.0->tensorflow==1.15.0) (3.8.1)\n",
            "Requirement already satisfied: typing-extensions>=3.6.4 in /usr/local/lib/python3.7/dist-packages (from importlib-metadata>=4.4->markdown>=2.6.8->tensorboard<1.16.0,>=1.15.0->tensorflow==1.15.0) (4.1.1)\n",
            "Requirement already satisfied: cached-property in /usr/local/lib/python3.7/dist-packages (from h5py->keras-applications>=1.0.8->tensorflow==1.15.0) (1.5.2)\n"
          ]
        }
      ],
      "source": [
        "!pip install tensorflow==1.15.0"
      ]
    },
    {
      "cell_type": "code",
      "source": [
        "!pip install -q lucid>=0.2.3\n",
        "!pip install -q moviepy"
      ],
      "metadata": {
        "id": "iTn-EPZazW1I"
      },
      "execution_count": 4,
      "outputs": []
    },
    {
      "cell_type": "code",
      "source": [
        "!pip install imageio==2.4.1"
      ],
      "metadata": {
        "colab": {
          "base_uri": "https://localhost:8080/"
        },
        "id": "D5iF5Z-s0V4A",
        "outputId": "89851dbd-d101-408f-d24d-54ea8211178b"
      },
      "execution_count": 5,
      "outputs": [
        {
          "output_type": "stream",
          "name": "stdout",
          "text": [
            "Looking in indexes: https://pypi.org/simple, https://us-python.pkg.dev/colab-wheels/public/simple/\n",
            "Collecting imageio==2.4.1\n",
            "  Downloading imageio-2.4.1.tar.gz (3.3 MB)\n",
            "\u001b[K     |████████████████████████████████| 3.3 MB 4.7 MB/s \n",
            "\u001b[?25hRequirement already satisfied: numpy in /usr/local/lib/python3.7/dist-packages (from imageio==2.4.1) (1.19.0)\n",
            "Requirement already satisfied: pillow in /usr/local/lib/python3.7/dist-packages (from imageio==2.4.1) (7.1.2)\n",
            "Building wheels for collected packages: imageio\n",
            "  Building wheel for imageio (setup.py) ... \u001b[?25l\u001b[?25hdone\n",
            "  Created wheel for imageio: filename=imageio-2.4.1-py3-none-any.whl size=3303885 sha256=7402aa40f48835f93d6ec6b813f376ef3117673386e535a82f6677d69822c899\n",
            "  Stored in directory: /root/.cache/pip/wheels/46/20/07/7bb9c8c44e6ec2efa60fd0e6280094f53f65f41767ef69a5ee\n",
            "Successfully built imageio\n",
            "Installing collected packages: imageio\n",
            "  Attempting uninstall: imageio\n",
            "    Found existing installation: imageio 2.9.0\n",
            "    Uninstalling imageio-2.9.0:\n",
            "      Successfully uninstalled imageio-2.9.0\n",
            "Successfully installed imageio-2.4.1\n"
          ]
        }
      ]
    },
    {
      "cell_type": "code",
      "source": [
        "import numpy as np\n",
        "import json\n",
        "import moviepy.editor as mvp\n",
        "from google.colab import files\n",
        "import tensorflow.compat.v1.gfile as gfile\n",
        "import lucid.misc.io.showing as show"
      ],
      "metadata": {
        "id": "snH6358bzXtw",
        "colab": {
          "base_uri": "https://localhost:8080/"
        },
        "outputId": "38c22f84-e88c-4bbe-820f-a7a2a86c2d5a"
      },
      "execution_count": 6,
      "outputs": [
        {
          "output_type": "stream",
          "name": "stdout",
          "text": [
            "Imageio: 'ffmpeg-linux64-v3.3.1' was not found on your computer; downloading it now.\n",
            "Try 1. Download from https://github.com/imageio/imageio-binaries/raw/master/ffmpeg/ffmpeg-linux64-v3.3.1 (43.8 MB)\n",
            "Downloading: 8192/45929032 bytes (0.0%)\b\b\b\b\b\b\b\b\b\b\b\b\b\b\b\b\b\b\b\b\b\b\b\b\b\b3039232/45929032 bytes (6.6%)\b\b\b\b\b\b\b\b\b\b\b\b\b\b\b\b\b\b\b\b\b\b\b\b\b\b\b\b\b7233536/45929032 bytes (15.7%)\b\b\b\b\b\b\b\b\b\b\b\b\b\b\b\b\b\b\b\b\b\b\b\b\b\b\b\b\b\b10952704/45929032 bytes (23.8%)\b\b\b\b\b\b\b\b\b\b\b\b\b\b\b\b\b\b\b\b\b\b\b\b\b\b\b\b\b\b\b14942208/45929032 bytes (32.5%)\b\b\b\b\b\b\b\b\b\b\b\b\b\b\b\b\b\b\b\b\b\b\b\b\b\b\b\b\b\b\b18857984/45929032 bytes (41.1%)\b\b\b\b\b\b\b\b\b\b\b\b\b\b\b\b\b\b\b\b\b\b\b\b\b\b\b\b\b\b\b22806528/45929032 bytes (49.7%)\b\b\b\b\b\b\b\b\b\b\b\b\b\b\b\b\b\b\b\b\b\b\b\b\b\b\b\b\b\b\b26886144/45929032 bytes (58.5%)\b\b\b\b\b\b\b\b\b\b\b\b\b\b\b\b\b\b\b\b\b\b\b\b\b\b\b\b\b\b\b30990336/45929032 bytes (67.5%)\b\b\b\b\b\b\b\b\b\b\b\b\b\b\b\b\b\b\b\b\b\b\b\b\b\b\b\b\b\b\b34676736/45929032 bytes (75.5%)\b\b\b\b\b\b\b\b\b\b\b\b\b\b\b\b\b\b\b\b\b\b\b\b\b\b\b\b\b\b\b37175296/45929032 bytes (80.9%)\b\b\b\b\b\b\b\b\b\b\b\b\b\b\b\b\b\b\b\b\b\b\b\b\b\b\b\b\b\b\b40656896/45929032 bytes (88.5%)\b\b\b\b\b\b\b\b\b\b\b\b\b\b\b\b\b\b\b\b\b\b\b\b\b\b\b\b\b\b\b44122112/45929032 bytes (96.1%)\b\b\b\b\b\b\b\b\b\b\b\b\b\b\b\b\b\b\b\b\b\b\b\b\b\b\b\b\b\b\b45929032/45929032 bytes (100.0%)\n",
            "  Done\n",
            "File saved as /root/.imageio/ffmpeg/ffmpeg-linux64-v3.3.1.\n"
          ]
        }
      ]
    },
    {
      "cell_type": "code",
      "source": [
        "from lucid.misc.gl.glcontext import create_opengl_context\n",
        "\n",
        "# Now it's safe to import OpenGL and EGL functions\n",
        "import OpenGL.GL as gl\n",
        "from OpenGL.GLU import *\n",
        "\n",
        "# create_opengl_context() creates GL context that is attached to an\n",
        "# offscreen surface of specified size. Note that rendering to buffers\n",
        "# of different size and format is still possible with OpenGL Framebuffers.\n",
        "#\n",
        "# Users are expected to directly use EGL calls in case more advanced\n",
        "# context management is required.\n",
        "WIDTH, HEIGHT = 1200, 1200\n",
        "create_opengl_context((WIDTH, HEIGHT))\n",
        "    \n",
        "# OpenGL context is available here.\n",
        "\n",
        "print(gl.glGetString(gl.GL_VERSION))\n",
        "print(gl.glGetString(gl.GL_VENDOR)) \n",
        "#print(gl.glGetString(gl.GL_EXTENSIONS))"
      ],
      "metadata": {
        "colab": {
          "base_uri": "https://localhost:8080/"
        },
        "id": "R_RRrXN-zYrn",
        "outputId": "cb2b1e5f-838d-4fa2-eaf9-5cecf008a862"
      },
      "execution_count": 8,
      "outputs": [
        {
          "output_type": "stream",
          "name": "stdout",
          "text": [
            "b'4.6.0 NVIDIA 460.32.03'\n",
            "b'NVIDIA Corporation'\n"
          ]
        }
      ]
    },
    {
      "cell_type": "code",
      "source": [
        "def outcode(x, y):\n",
        "  x = x  \n",
        "  y = y\n",
        "  x_min = -6\n",
        "  x_max = 6\n",
        "  y_min = -5\n",
        "  y_max = 5\n",
        "  if(x < x_min):\n",
        "    bit0 = 1\n",
        "  else:\n",
        "    bit0 = 0\n",
        "  if(x > x_max):\n",
        "    bit1 = 1\n",
        "  else:\n",
        "    bit1 = 0\n",
        "  if(y < y_min):\n",
        "    bit2 = 1\n",
        "  else:\n",
        "    bit2 = 0\n",
        "  if(y > y_max):\n",
        "    bit3 = 1\n",
        "  else:\n",
        "    bit3 = 0\n",
        "  return str(bit3) + str(bit2) + str(bit1) + str(bit0)"
      ],
      "metadata": {
        "id": "pO1kqpjY0sbw"
      },
      "execution_count": 9,
      "outputs": []
    },
    {
      "cell_type": "code",
      "source": [
        "def cohen_sutherland(x1, y1, x2, y2):\n",
        "  oc1 = outcode(x1, y1)\n",
        "  oc2 = outcode(x2, y2)\n",
        "  oc1Dec = int(oc1, base = 2)\n",
        "  oc2Dec = int(oc2, base = 2)\n",
        "  while(True):\n",
        "    if(oc1 == oc2 == \"0000\"):\n",
        "      #completely inside\n",
        "      gl.glPointSize(5)\n",
        "      gl.glColor3f(0, .1, 0)\n",
        "\n",
        "      gl.glBegin(gl.GL_LINES)\n",
        "      gl.glVertex2f(x1/10, y1/10)\n",
        "      gl.glVertex2f(x2/10, y2/10)\n",
        "      gl.glEnd()\n",
        "\n",
        "      break\n",
        "    elif(oc1Dec & oc2Dec != 0000):\n",
        "      #completely outside and clip\n",
        "      gl.glPointSize(5)\n",
        "      gl.glColor3f(.1, 0, 0)\n",
        "\n",
        "      gl.glBegin(gl.GL_LINES)\n",
        "      gl.glVertex2f(x1/10, y1/10)\n",
        "      gl.glVertex2f(x2/10, y2/10)\n",
        "      gl.glEnd()\n",
        "      break\n",
        "    else:\n",
        "      if(oc1 != \"0000\"):\n",
        "\n",
        "        gl.glPointSize(5)\n",
        "        gl.glColor3f(0, 0, .1)\n",
        "\n",
        "        gl.glBegin(gl.GL_LINES)\n",
        "        gl.glVertex2f(x1/10, y1/10)\n",
        "        gl.glVertex2f(x2/10, y2/10)\n",
        "        gl.glEnd()\n",
        "\n",
        "        x1, y1 = intersection_point(oc1, x1, y1, x2, y2)\n",
        "        oc1 = outcode(x1, y1)\n",
        "      else:\n",
        "\n",
        "        gl.glPointSize(5)\n",
        "        gl.glColor3f(0, 0, .1)\n",
        "\n",
        "        gl.glBegin(gl.GL_LINES)\n",
        "        gl.glVertex2f(x1/10, y1/10)\n",
        "        gl.glVertex2f(x2/10, y2/10)\n",
        "        gl.glEnd()\n",
        "\n",
        "        x2, y2 = intersection_point(oc2, x1, y1, x2, y2)\n",
        "        oc2 = outcode(x2, y2)"
      ],
      "metadata": {
        "id": "9__RTJW78f6_"
      },
      "execution_count": 10,
      "outputs": []
    },
    {
      "cell_type": "code",
      "source": [
        "def intersection_point(outcode, x1, y1, x2, y2):\n",
        "  x_min = -6\n",
        "  x_max = 6\n",
        "  y_min = -5\n",
        "  y_max = 5\n",
        "  m = (y2 - y1)/(x2 - x1)\n",
        "  if(outcode.startswith(\"1\")):\n",
        "    #Apply Top Intersection\n",
        "    y = y_max\n",
        "    x = x1 + ((1/m) * (y_max - y1))\n",
        "  elif(outcode.startswith(\"01\")):\n",
        "    #Apply Bottom Intersection\n",
        "    y = y_min\n",
        "    x = x1 + ((1/m) * (y_min - y1))\n",
        "  elif(outcode.endswith(\"10\")):\n",
        "    #Apply Right Intersection\n",
        "    x = x_max\n",
        "    y = y1 + (m * (x_max - x1))\n",
        "  elif(outcode.endswith(\"1\")):\n",
        "    #Apply Left Intersection\n",
        "    x = x_min\n",
        "    y = y1 + (m * (x_min - x1))\n",
        "  return x, y"
      ],
      "metadata": {
        "id": "A5UCsKYdH75q"
      },
      "execution_count": 11,
      "outputs": []
    },
    {
      "cell_type": "code",
      "source": [
        "gl.glClear(gl.GL_COLOR_BUFFER_BIT)\n",
        "\n",
        "#Clipping Window\n",
        "gl.glLineWidth(5)\n",
        "gl.glColor3f(.1, .1, .1)\n",
        "\n",
        "gl.glBegin(gl.GL_LINES)\n",
        "#ABOVE\n",
        "gl.glVertex2f(-6/10, 5/10)\n",
        "gl.glVertex2f(6/10, 5/10)\n",
        "#BELOW\n",
        "gl.glVertex2f(-6/10, -5/10)\n",
        "gl.glVertex2f(6/10, -5/10)\n",
        "#RIGHT\n",
        "gl.glVertex2f(6/10, 5/10)\n",
        "gl.glVertex2f(6/10, -5/10)\n",
        "#LEFT\n",
        "gl.glVertex2f(-6/10, 5/10)\n",
        "gl.glVertex2f(-6/10, -5/10)\n",
        "gl.glEnd()\n",
        "\n",
        "#partially accepted\n",
        "cohen_sutherland(8, 8,  2, 4)\n",
        "#fully accepted\n",
        "cohen_sutherland(0, -2,  2, 1)\n",
        "#fully rejected\n",
        "cohen_sutherland(-7, 4, -10 , -4)\n",
        "\n",
        "img_buf = gl.glReadPixelsub(0, 0, WIDTH, HEIGHT, gl.GL_RGB, gl.GL_UNSIGNED_BYTE)\n",
        "img = np.frombuffer(img_buf, np.uint8).reshape(HEIGHT, WIDTH, 3)[::-1]\n",
        "show.image(img/255.0)"
      ],
      "metadata": {
        "id": "_dHl9YPdp52Q",
        "colab": {
          "base_uri": "https://localhost:8080/",
          "height": 1000
        },
        "outputId": "2ddbc8e1-62d9-46ac-86b1-83904e03d1da"
      },
      "execution_count": 12,
      "outputs": [
        {
          "output_type": "display_data",
          "data": {
            "text/plain": [
              "<IPython.core.display.HTML object>"
            ],
            "text/html": [
              "<img src=\"data:image/PNG;base64,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\" style=\"image-rendering: pixelated; image-rendering: crisp-edges;\">"
            ]
          },
          "metadata": {}
        }
      ]
    },
    {
      "cell_type": "code",
      "source": [
        ""
      ],
      "metadata": {
        "id": "zHv0Aan0nj4J"
      },
      "execution_count": null,
      "outputs": []
    }
  ]
}